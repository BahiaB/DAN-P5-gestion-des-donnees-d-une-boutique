{
 "cells": [
  {
   "cell_type": "markdown",
   "metadata": {},
   "source": [
    "# Partie 1: preparation des dataframes"
   ]
  },
  {
   "cell_type": "markdown",
   "metadata": {},
   "source": [
    "## 1.1 Importation des librairies"
   ]
  },
  {
   "cell_type": "code",
   "execution_count": 233,
   "metadata": {},
   "outputs": [],
   "source": [
    "import pandas as pd\n",
    "import numpy as np\n",
    "import matplotlib.pyplot as plt\n",
    "import seaborn as sns\n",
    "\n",
    "pd.set_option('display.max_columns', None)\n",
    "pd.set_option('display.max_rows', None) \n"
   ]
  },
  {
   "cell_type": "markdown",
   "metadata": {},
   "source": [
    "## 1.2 importation des dataframes"
   ]
  },
  {
   "cell_type": "code",
   "execution_count": 234,
   "metadata": {},
   "outputs": [],
   "source": [
    "\n",
    "erp = pd.read_csv(\"./erp.csv\")\n",
    "liaison = pd.read_csv(\"./liaison.csv\")\n",
    "web = pd.read_csv(\"./web.csv\")"
   ]
  },
  {
   "cell_type": "markdown",
   "metadata": {},
   "source": [
    "## 1.3 Preparation des differents Dataframes"
   ]
  },
  {
   "cell_type": "markdown",
   "metadata": {},
   "source": [
    "### Preparation du dataframe erp"
   ]
  },
  {
   "cell_type": "code",
   "execution_count": 235,
   "metadata": {},
   "outputs": [
    {
     "name": "stdout",
     "output_type": "stream",
     "text": [
      "<class 'pandas.core.frame.DataFrame'>\n",
      "RangeIndex: 825 entries, 0 to 824\n",
      "Data columns (total 6 columns):\n",
      " #   Column          Non-Null Count  Dtype  \n",
      "---  ------          --------------  -----  \n",
      " 0   Unnamed: 0      825 non-null    int64  \n",
      " 1   product_id      825 non-null    int64  \n",
      " 2   onsale_web      825 non-null    int64  \n",
      " 3   price           825 non-null    float64\n",
      " 4   stock_quantity  825 non-null    int64  \n",
      " 5   stock_status    825 non-null    object \n",
      "dtypes: float64(1), int64(4), object(1)\n",
      "memory usage: 38.8+ KB\n",
      "la colonne product_id contient 825  valeurs uniques\n"
     ]
    }
   ],
   "source": [
    "erp.info()\n",
    "print(\"la colonne product_id contient\", len(erp['product_id'].unique()),\" valeurs uniques\")"
   ]
  },
  {
   "cell_type": "markdown",
   "metadata": {},
   "source": [
    "Comme on peut le voir la colonne product_id possède 825 lignes. pour 825 valeurs uniques.  \n",
    "Comme chaque product_id est unique on va pouvoir les utiliser comme clefs primaires"
   ]
  },
  {
   "cell_type": "markdown",
   "metadata": {},
   "source": [
    "### Preparation du dataframe liaison"
   ]
  },
  {
   "cell_type": "code",
   "execution_count": 236,
   "metadata": {},
   "outputs": [
    {
     "name": "stdout",
     "output_type": "stream",
     "text": [
      "<class 'pandas.core.frame.DataFrame'>\n",
      "RangeIndex: 825 entries, 0 to 824\n",
      "Data columns (total 3 columns):\n",
      " #   Column      Non-Null Count  Dtype \n",
      "---  ------      --------------  ----- \n",
      " 0   Unnamed: 0  825 non-null    int64 \n",
      " 1   product_id  825 non-null    int64 \n",
      " 2   id_web      734 non-null    object\n",
      "dtypes: int64(2), object(1)\n",
      "memory usage: 19.5+ KB\n"
     ]
    }
   ],
   "source": [
    "liaison.info()"
   ]
  },
  {
   "cell_type": "markdown",
   "metadata": {},
   "source": [
    "Le fichier liaison possède 825 lignes.  \n",
    "la colonne product_id posséde 825 valeurs uniques.  \n",
    "Le fichier de liaison posséde autant de lignes que le fichier erp, \n",
    "une liaison devrait donc etre possible, en se basant sur la colonne product_id"
   ]
  },
  {
   "cell_type": "markdown",
   "metadata": {},
   "source": [
    "### Creation d'un dataframe temporaire en fusionant 'Erp' et 'Liaison'"
   ]
  },
  {
   "cell_type": "code",
   "execution_count": 237,
   "metadata": {},
   "outputs": [
    {
     "name": "stdout",
     "output_type": "stream",
     "text": [
      "le nouveau fichier,temporaire possède 825 lignes,\n",
      "soit autant que les fichiers erp et liaison, la fusion semble donc s'être passée correctement. \n",
      "\n",
      "<class 'pandas.core.frame.DataFrame'>\n",
      "Int64Index: 825 entries, 0 to 824\n",
      "Data columns (total 8 columns):\n",
      " #   Column          Non-Null Count  Dtype  \n",
      "---  ------          --------------  -----  \n",
      " 0   Unnamed: 0_x    825 non-null    int64  \n",
      " 1   product_id      825 non-null    int64  \n",
      " 2   onsale_web      825 non-null    int64  \n",
      " 3   price           825 non-null    float64\n",
      " 4   stock_quantity  825 non-null    int64  \n",
      " 5   stock_status    825 non-null    object \n",
      " 6   Unnamed: 0_y    825 non-null    int64  \n",
      " 7   id_web          734 non-null    object \n",
      "dtypes: float64(1), int64(5), object(2)\n",
      "memory usage: 58.0+ KB\n"
     ]
    }
   ],
   "source": [
    "# fusion du fichier erp et de la table de liaison, grace au 'product_id' puis preparation pour la fusion avec le fichier web\n",
    "# creation d'un df temporaire et fusion du fichier erp et de la table de liaison, grace au 'product_id'. \n",
    "df_temp = pd.merge(erp, liaison, on='product_id', how='left')\n",
    "print(f'le nouveau fichier,temporaire possède {len(df_temp)} lignes,\\n'\n",
    "      f\"soit autant que les fichiers erp et liaison, la fusion semble donc s'être passée correctement. \\n\")\n",
    "df_temp.info()\n"
   ]
  },
  {
   "cell_type": "markdown",
   "metadata": {},
   "source": [
    "On peut voir que la colonne id_web  possède 734 valeurs renseignées."
   ]
  },
  {
   "cell_type": "code",
   "execution_count": 238,
   "metadata": {},
   "outputs": [
    {
     "name": "stdout",
     "output_type": "stream",
     "text": [
      "la colonne id_web posséde 735  valeurs uniques, et  91  valeurs manquantes\n"
     ]
    },
    {
     "data": {
      "text/plain": [
       "(734, 8)"
      ]
     },
     "execution_count": 238,
     "metadata": {},
     "output_type": "execute_result"
    }
   ],
   "source": [
    "print(\"la colonne id_web posséde\", len(df_temp['id_web'].unique()),\" valeurs uniques, et \",\n",
    "        len(df_temp[df_temp['id_web'].isna()]),\" valeurs manquantes\")\n",
    "\n",
    "#Supression des lignes ou les valeurs 'id_web' sont manquantes\n",
    "df_temp = df_temp.dropna(subset=[\"id_web\"], axis=0)\n",
    "df_temp.shape"
   ]
  },
  {
   "cell_type": "markdown",
   "metadata": {},
   "source": [
    "### Preparation du fichier Web"
   ]
  },
  {
   "cell_type": "code",
   "execution_count": 239,
   "metadata": {},
   "outputs": [
    {
     "name": "stdout",
     "output_type": "stream",
     "text": [
      "<class 'pandas.core.frame.DataFrame'>\n",
      "RangeIndex: 1513 entries, 0 to 1512\n",
      "Data columns (total 29 columns):\n",
      " #   Column                 Non-Null Count  Dtype  \n",
      "---  ------                 --------------  -----  \n",
      " 0   Unnamed: 0             1513 non-null   int64  \n",
      " 1   id_web                 1428 non-null   object \n",
      " 2   virtual                1513 non-null   int64  \n",
      " 3   downloadable           1513 non-null   int64  \n",
      " 4   rating_count           1513 non-null   int64  \n",
      " 5   average_rating         1430 non-null   float64\n",
      " 6   total_sales            1430 non-null   float64\n",
      " 7   tax_status             716 non-null    object \n",
      " 8   tax_class              0 non-null      float64\n",
      " 9   post_author            1430 non-null   float64\n",
      " 10  post_date              1430 non-null   object \n",
      " 11  post_date_gmt          1430 non-null   object \n",
      " 12  post_content           0 non-null      float64\n",
      " 13  post_title             1430 non-null   object \n",
      " 14  post_excerpt           716 non-null    object \n",
      " 15  post_status            1430 non-null   object \n",
      " 16  comment_status         1430 non-null   object \n",
      " 17  ping_status            1430 non-null   object \n",
      " 18  post_password          0 non-null      float64\n",
      " 19  post_name              1430 non-null   object \n",
      " 20  post_modified          1430 non-null   object \n",
      " 21  post_modified_gmt      1430 non-null   object \n",
      " 22  post_content_filtered  0 non-null      float64\n",
      " 23  post_parent            1430 non-null   float64\n",
      " 24  guid                   1430 non-null   object \n",
      " 25  menu_order             1430 non-null   float64\n",
      " 26  post_type              1430 non-null   object \n",
      " 27  post_mime_type         714 non-null    object \n",
      " 28  comment_count          1430 non-null   float64\n",
      "dtypes: float64(10), int64(4), object(15)\n",
      "memory usage: 342.9+ KB\n"
     ]
    }
   ],
   "source": [
    "#Renommer la colonne sku en id_web pour correspondre au fichier liaison\n",
    "web.rename(columns={\"sku\":\"id_web\"}, inplace=True)\n",
    "web.info()\n",
    "\n"
   ]
  },
  {
   "cell_type": "markdown",
   "metadata": {},
   "source": [
    "On peut voir que:  \n",
    "le fichier web possede 1513 lignes.  \n",
    "La colonne id_web possede 1428 valeurs. "
   ]
  },
  {
   "cell_type": "code",
   "execution_count": 240,
   "metadata": {},
   "outputs": [
    {
     "name": "stdout",
     "output_type": "stream",
     "text": [
      "Nombre de valeurs unique dans la colonne id_web: 715\n"
     ]
    },
    {
     "data": {
      "text/html": [
       "<div>\n",
       "<style scoped>\n",
       "    .dataframe tbody tr th:only-of-type {\n",
       "        vertical-align: middle;\n",
       "    }\n",
       "\n",
       "    .dataframe tbody tr th {\n",
       "        vertical-align: top;\n",
       "    }\n",
       "\n",
       "    .dataframe thead th {\n",
       "        text-align: right;\n",
       "    }\n",
       "</style>\n",
       "<table border=\"1\" class=\"dataframe\">\n",
       "  <thead>\n",
       "    <tr style=\"text-align: right;\">\n",
       "      <th></th>\n",
       "      <th>Unnamed: 0</th>\n",
       "      <th>id_web</th>\n",
       "      <th>virtual</th>\n",
       "      <th>downloadable</th>\n",
       "      <th>rating_count</th>\n",
       "      <th>average_rating</th>\n",
       "      <th>total_sales</th>\n",
       "      <th>tax_status</th>\n",
       "      <th>tax_class</th>\n",
       "      <th>post_author</th>\n",
       "      <th>post_date</th>\n",
       "      <th>post_date_gmt</th>\n",
       "      <th>post_content</th>\n",
       "      <th>post_title</th>\n",
       "      <th>post_excerpt</th>\n",
       "      <th>post_status</th>\n",
       "      <th>comment_status</th>\n",
       "      <th>ping_status</th>\n",
       "      <th>post_password</th>\n",
       "      <th>post_name</th>\n",
       "      <th>post_modified</th>\n",
       "      <th>post_modified_gmt</th>\n",
       "      <th>post_content_filtered</th>\n",
       "      <th>post_parent</th>\n",
       "      <th>guid</th>\n",
       "      <th>menu_order</th>\n",
       "      <th>post_type</th>\n",
       "      <th>post_mime_type</th>\n",
       "      <th>comment_count</th>\n",
       "    </tr>\n",
       "  </thead>\n",
       "  <tbody>\n",
       "    <tr>\n",
       "      <th>1399</th>\n",
       "      <td>1399</td>\n",
       "      <td>10014</td>\n",
       "      <td>0</td>\n",
       "      <td>0</td>\n",
       "      <td>0</td>\n",
       "      <td>0.0</td>\n",
       "      <td>0.0</td>\n",
       "      <td>NaN</td>\n",
       "      <td>NaN</td>\n",
       "      <td>2.0</td>\n",
       "      <td>2019-04-04 15:45:23</td>\n",
       "      <td>2019-04-04 13:45:23</td>\n",
       "      <td>NaN</td>\n",
       "      <td>Darnley's London Dry Gin Original</td>\n",
       "      <td>NaN</td>\n",
       "      <td>publish</td>\n",
       "      <td>closed</td>\n",
       "      <td>closed</td>\n",
       "      <td>NaN</td>\n",
       "      <td>darnleys-london-dry-gin-original</td>\n",
       "      <td>2020-08-26 15:55:02</td>\n",
       "      <td>2020-08-26 13:55:02</td>\n",
       "      <td>NaN</td>\n",
       "      <td>0.0</td>\n",
       "      <td>https://www.bottle-neck.fr/wp-content/uploads/...</td>\n",
       "      <td>0.0</td>\n",
       "      <td>attachment</td>\n",
       "      <td>image/jpeg</td>\n",
       "      <td>0.0</td>\n",
       "    </tr>\n",
       "    <tr>\n",
       "      <th>628</th>\n",
       "      <td>628</td>\n",
       "      <td>10014</td>\n",
       "      <td>0</td>\n",
       "      <td>0</td>\n",
       "      <td>0</td>\n",
       "      <td>0.0</td>\n",
       "      <td>0.0</td>\n",
       "      <td>taxable</td>\n",
       "      <td>NaN</td>\n",
       "      <td>2.0</td>\n",
       "      <td>2019-04-04 15:45:23</td>\n",
       "      <td>2019-04-04 13:45:23</td>\n",
       "      <td>NaN</td>\n",
       "      <td>Darnley's London Dry Gin Original</td>\n",
       "      <td>&lt;span title=\"\"&gt;Un gin léger, floral et aromati...</td>\n",
       "      <td>publish</td>\n",
       "      <td>closed</td>\n",
       "      <td>closed</td>\n",
       "      <td>NaN</td>\n",
       "      <td>darnleys-london-dry-gin-original</td>\n",
       "      <td>2020-08-26 15:55:02</td>\n",
       "      <td>2020-08-26 13:55:02</td>\n",
       "      <td>NaN</td>\n",
       "      <td>0.0</td>\n",
       "      <td>https://www.bottle-neck.fr/?post_type=product&amp;...</td>\n",
       "      <td>0.0</td>\n",
       "      <td>product</td>\n",
       "      <td>NaN</td>\n",
       "      <td>0.0</td>\n",
       "    </tr>\n",
       "    <tr>\n",
       "      <th>255</th>\n",
       "      <td>255</td>\n",
       "      <td>10459</td>\n",
       "      <td>0</td>\n",
       "      <td>0</td>\n",
       "      <td>0</td>\n",
       "      <td>0.0</td>\n",
       "      <td>0.0</td>\n",
       "      <td>taxable</td>\n",
       "      <td>NaN</td>\n",
       "      <td>2.0</td>\n",
       "      <td>2018-04-13 15:58:19</td>\n",
       "      <td>2018-04-13 13:58:19</td>\n",
       "      <td>NaN</td>\n",
       "      <td>Alphonse Mellot Sancerre Rouge Génération XIX ...</td>\n",
       "      <td>Robe d'un superbe rubis, dense et profond - As...</td>\n",
       "      <td>publish</td>\n",
       "      <td>closed</td>\n",
       "      <td>closed</td>\n",
       "      <td>NaN</td>\n",
       "      <td>alphonse-mellot-sancerre-rouge-generation-xix-...</td>\n",
       "      <td>2020-08-24 14:05:02</td>\n",
       "      <td>2020-08-24 12:05:02</td>\n",
       "      <td>NaN</td>\n",
       "      <td>0.0</td>\n",
       "      <td>https://www.bottle-neck.fr/?post_type=product&amp;...</td>\n",
       "      <td>0.0</td>\n",
       "      <td>product</td>\n",
       "      <td>NaN</td>\n",
       "      <td>0.0</td>\n",
       "    </tr>\n",
       "    <tr>\n",
       "      <th>1046</th>\n",
       "      <td>1046</td>\n",
       "      <td>10459</td>\n",
       "      <td>0</td>\n",
       "      <td>0</td>\n",
       "      <td>0</td>\n",
       "      <td>0.0</td>\n",
       "      <td>0.0</td>\n",
       "      <td>NaN</td>\n",
       "      <td>NaN</td>\n",
       "      <td>2.0</td>\n",
       "      <td>2018-04-13 15:58:19</td>\n",
       "      <td>2018-04-13 13:58:19</td>\n",
       "      <td>NaN</td>\n",
       "      <td>Alphonse Mellot Sancerre Rouge Génération XIX ...</td>\n",
       "      <td>NaN</td>\n",
       "      <td>publish</td>\n",
       "      <td>closed</td>\n",
       "      <td>closed</td>\n",
       "      <td>NaN</td>\n",
       "      <td>alphonse-mellot-sancerre-rouge-generation-xix-...</td>\n",
       "      <td>2020-08-24 14:05:02</td>\n",
       "      <td>2020-08-24 12:05:02</td>\n",
       "      <td>NaN</td>\n",
       "      <td>0.0</td>\n",
       "      <td>https://www.bottle-neck.fr/wp-content/uploads/...</td>\n",
       "      <td>0.0</td>\n",
       "      <td>attachment</td>\n",
       "      <td>image/jpeg</td>\n",
       "      <td>0.0</td>\n",
       "    </tr>\n",
       "  </tbody>\n",
       "</table>\n",
       "</div>"
      ],
      "text/plain": [
       "      Unnamed: 0 id_web  virtual  downloadable  rating_count  average_rating  \\\n",
       "1399        1399  10014        0             0             0             0.0   \n",
       "628          628  10014        0             0             0             0.0   \n",
       "255          255  10459        0             0             0             0.0   \n",
       "1046        1046  10459        0             0             0             0.0   \n",
       "\n",
       "      total_sales tax_status  tax_class  post_author            post_date  \\\n",
       "1399          0.0        NaN        NaN          2.0  2019-04-04 15:45:23   \n",
       "628           0.0    taxable        NaN          2.0  2019-04-04 15:45:23   \n",
       "255           0.0    taxable        NaN          2.0  2018-04-13 15:58:19   \n",
       "1046          0.0        NaN        NaN          2.0  2018-04-13 15:58:19   \n",
       "\n",
       "            post_date_gmt  post_content  \\\n",
       "1399  2019-04-04 13:45:23           NaN   \n",
       "628   2019-04-04 13:45:23           NaN   \n",
       "255   2018-04-13 13:58:19           NaN   \n",
       "1046  2018-04-13 13:58:19           NaN   \n",
       "\n",
       "                                             post_title  \\\n",
       "1399                  Darnley's London Dry Gin Original   \n",
       "628                   Darnley's London Dry Gin Original   \n",
       "255   Alphonse Mellot Sancerre Rouge Génération XIX ...   \n",
       "1046  Alphonse Mellot Sancerre Rouge Génération XIX ...   \n",
       "\n",
       "                                           post_excerpt post_status  \\\n",
       "1399                                                NaN     publish   \n",
       "628   <span title=\"\">Un gin léger, floral et aromati...     publish   \n",
       "255   Robe d'un superbe rubis, dense et profond - As...     publish   \n",
       "1046                                                NaN     publish   \n",
       "\n",
       "     comment_status ping_status  post_password  \\\n",
       "1399         closed      closed            NaN   \n",
       "628          closed      closed            NaN   \n",
       "255          closed      closed            NaN   \n",
       "1046         closed      closed            NaN   \n",
       "\n",
       "                                              post_name        post_modified  \\\n",
       "1399                   darnleys-london-dry-gin-original  2020-08-26 15:55:02   \n",
       "628                    darnleys-london-dry-gin-original  2020-08-26 15:55:02   \n",
       "255   alphonse-mellot-sancerre-rouge-generation-xix-...  2020-08-24 14:05:02   \n",
       "1046  alphonse-mellot-sancerre-rouge-generation-xix-...  2020-08-24 14:05:02   \n",
       "\n",
       "        post_modified_gmt  post_content_filtered  post_parent  \\\n",
       "1399  2020-08-26 13:55:02                    NaN          0.0   \n",
       "628   2020-08-26 13:55:02                    NaN          0.0   \n",
       "255   2020-08-24 12:05:02                    NaN          0.0   \n",
       "1046  2020-08-24 12:05:02                    NaN          0.0   \n",
       "\n",
       "                                                   guid  menu_order  \\\n",
       "1399  https://www.bottle-neck.fr/wp-content/uploads/...         0.0   \n",
       "628   https://www.bottle-neck.fr/?post_type=product&...         0.0   \n",
       "255   https://www.bottle-neck.fr/?post_type=product&...         0.0   \n",
       "1046  https://www.bottle-neck.fr/wp-content/uploads/...         0.0   \n",
       "\n",
       "       post_type post_mime_type  comment_count  \n",
       "1399  attachment     image/jpeg            0.0  \n",
       "628      product            NaN            0.0  \n",
       "255      product            NaN            0.0  \n",
       "1046  attachment     image/jpeg            0.0  "
      ]
     },
     "metadata": {},
     "output_type": "display_data"
    }
   ],
   "source": [
    "print(\"Nombre de valeurs unique dans la colonne id_web:\",len(web['id_web'].unique()))\n",
    "web = web.sort_values(by=['id_web'], axis=0)\n",
    "display(web[:4])\n"
   ]
  },
  {
   "cell_type": "code",
   "execution_count": 241,
   "metadata": {},
   "outputs": [
    {
     "name": "stdout",
     "output_type": "stream",
     "text": [
      "<class 'pandas.core.frame.DataFrame'>\n",
      "Int64Index: 799 entries, 628 to 796\n",
      "Data columns (total 29 columns):\n",
      " #   Column                 Non-Null Count  Dtype  \n",
      "---  ------                 --------------  -----  \n",
      " 0   Unnamed: 0             799 non-null    int64  \n",
      " 1   id_web                 714 non-null    object \n",
      " 2   virtual                799 non-null    int64  \n",
      " 3   downloadable           799 non-null    int64  \n",
      " 4   rating_count           799 non-null    int64  \n",
      " 5   average_rating         716 non-null    float64\n",
      " 6   total_sales            716 non-null    float64\n",
      " 7   tax_status             716 non-null    object \n",
      " 8   tax_class              0 non-null      float64\n",
      " 9   post_author            716 non-null    float64\n",
      " 10  post_date              716 non-null    object \n",
      " 11  post_date_gmt          716 non-null    object \n",
      " 12  post_content           0 non-null      float64\n",
      " 13  post_title             716 non-null    object \n",
      " 14  post_excerpt           716 non-null    object \n",
      " 15  post_status            716 non-null    object \n",
      " 16  comment_status         716 non-null    object \n",
      " 17  ping_status            716 non-null    object \n",
      " 18  post_password          0 non-null      float64\n",
      " 19  post_name              716 non-null    object \n",
      " 20  post_modified          716 non-null    object \n",
      " 21  post_modified_gmt      716 non-null    object \n",
      " 22  post_content_filtered  0 non-null      float64\n",
      " 23  post_parent            716 non-null    float64\n",
      " 24  guid                   716 non-null    object \n",
      " 25  menu_order             716 non-null    float64\n",
      " 26  post_type              716 non-null    object \n",
      " 27  post_mime_type         0 non-null      object \n",
      " 28  comment_count          716 non-null    float64\n",
      "dtypes: float64(10), int64(4), object(15)\n",
      "memory usage: 187.3+ KB\n",
      "\n",
      " La colonne id_web du fichier web possède 85  valeurs manquantes\n"
     ]
    }
   ],
   "source": [
    "# on supprime donc les doublons\n",
    "web.drop(web.loc[web['post_type']=='attachment'].index, inplace=True)\n",
    "web.info()\n",
    "print(\"\\n La colonne id_web du fichier web possède\" ,len(web[web['id_web'].isna()]),\" valeurs manquantes\")\n",
    "\n"
   ]
  },
  {
   "cell_type": "markdown",
   "metadata": {},
   "source": [
    "Chaque id_web est maintenant unique.  \n",
    "On va donc pouvoir utiliser cette colonne comme clef primaire pour proceder a la fusion entre le dataframe de liaison et le dataframe temporaire.\n"
   ]
  },
  {
   "cell_type": "markdown",
   "metadata": {},
   "source": [
    "### Jointure entre le fichier temporaire et le fichier web"
   ]
  },
  {
   "cell_type": "code",
   "execution_count": 242,
   "metadata": {},
   "outputs": [
    {
     "data": {
      "text/plain": [
       "(714, 36)"
      ]
     },
     "execution_count": 242,
     "metadata": {},
     "output_type": "execute_result"
    }
   ],
   "source": [
    "# fusion entre df_temp et web en utilisant id_web.\n",
    "new= pd.merge(df_temp, web, on='id_web', how='inner')\n",
    "#display(new)\n",
    "new.shape\n"
   ]
  },
  {
   "cell_type": "markdown",
   "metadata": {},
   "source": [
    "Après fusion entre df_temp et  web \n",
    " il nous reste bien 714  lignes\n",
    "La fusion a donc été effectuée avec les données renseignées\n"
   ]
  },
  {
   "cell_type": "code",
   "execution_count": 243,
   "metadata": {},
   "outputs": [],
   "source": [
    "new = new.drop(['Unnamed: 0_x'],axis=1)\n"
   ]
  },
  {
   "cell_type": "markdown",
   "metadata": {},
   "source": [
    "# Partie 2: Analyse du datafarme et de la variable \"Price\""
   ]
  },
  {
   "cell_type": "markdown",
   "metadata": {},
   "source": [
    "## 2.1 Le chiffre d'affaires"
   ]
  },
  {
   "cell_type": "code",
   "execution_count": 260,
   "metadata": {},
   "outputs": [
    {
     "name": "stdout",
     "output_type": "stream",
     "text": [
      "Le chiffre d'affaire total est de: 70568.6\n"
     ]
    },
    {
     "data": {
      "text/html": [
       "<div>\n",
       "<style scoped>\n",
       "    .dataframe tbody tr th:only-of-type {\n",
       "        vertical-align: middle;\n",
       "    }\n",
       "\n",
       "    .dataframe tbody tr th {\n",
       "        vertical-align: top;\n",
       "    }\n",
       "\n",
       "    .dataframe thead th {\n",
       "        text-align: right;\n",
       "    }\n",
       "</style>\n",
       "<table border=\"1\" class=\"dataframe\">\n",
       "  <thead>\n",
       "    <tr style=\"text-align: right;\">\n",
       "      <th></th>\n",
       "      <th>product_id</th>\n",
       "      <th>onsale_web</th>\n",
       "      <th>price</th>\n",
       "      <th>stock_quantity</th>\n",
       "      <th>stock_status</th>\n",
       "      <th>Unnamed: 0_y</th>\n",
       "      <th>id_web</th>\n",
       "      <th>Unnamed: 0</th>\n",
       "      <th>virtual</th>\n",
       "      <th>downloadable</th>\n",
       "      <th>rating_count</th>\n",
       "      <th>average_rating</th>\n",
       "      <th>total_sales</th>\n",
       "      <th>tax_status</th>\n",
       "      <th>tax_class</th>\n",
       "      <th>post_author</th>\n",
       "      <th>post_date</th>\n",
       "      <th>post_date_gmt</th>\n",
       "      <th>post_content</th>\n",
       "      <th>post_title</th>\n",
       "      <th>post_excerpt</th>\n",
       "      <th>post_status</th>\n",
       "      <th>comment_status</th>\n",
       "      <th>ping_status</th>\n",
       "      <th>post_password</th>\n",
       "      <th>post_name</th>\n",
       "      <th>post_modified</th>\n",
       "      <th>post_modified_gmt</th>\n",
       "      <th>post_content_filtered</th>\n",
       "      <th>post_parent</th>\n",
       "      <th>guid</th>\n",
       "      <th>menu_order</th>\n",
       "      <th>post_type</th>\n",
       "      <th>post_mime_type</th>\n",
       "      <th>comment_count</th>\n",
       "      <th>chiffre_affaire</th>\n",
       "    </tr>\n",
       "  </thead>\n",
       "  <tbody>\n",
       "    <tr>\n",
       "      <th>0</th>\n",
       "      <td>3847</td>\n",
       "      <td>1</td>\n",
       "      <td>24.2</td>\n",
       "      <td>0</td>\n",
       "      <td>outofstock</td>\n",
       "      <td>0</td>\n",
       "      <td>15298</td>\n",
       "      <td>1</td>\n",
       "      <td>0</td>\n",
       "      <td>0</td>\n",
       "      <td>0</td>\n",
       "      <td>0.0</td>\n",
       "      <td>6.0</td>\n",
       "      <td>taxable</td>\n",
       "      <td>NaN</td>\n",
       "      <td>2.0</td>\n",
       "      <td>2018-02-08 12:58:52</td>\n",
       "      <td>2018-02-08 11:58:52</td>\n",
       "      <td>NaN</td>\n",
       "      <td>Pierre Jean Villa Saint-Joseph Préface 2018</td>\n",
       "      <td>Il exhale un nez subtil, racé avec du poivre f...</td>\n",
       "      <td>publish</td>\n",
       "      <td>closed</td>\n",
       "      <td>closed</td>\n",
       "      <td>NaN</td>\n",
       "      <td>pierre-jean-villa-saint-joseph-preface-2018</td>\n",
       "      <td>2019-12-30 09:30:29</td>\n",
       "      <td>2019-12-30 08:30:29</td>\n",
       "      <td>NaN</td>\n",
       "      <td>0.0</td>\n",
       "      <td>https://www.bottle-neck.fr/?post_type=product&amp;...</td>\n",
       "      <td>0.0</td>\n",
       "      <td>product</td>\n",
       "      <td>NaN</td>\n",
       "      <td>0.0</td>\n",
       "      <td>145.2</td>\n",
       "    </tr>\n",
       "  </tbody>\n",
       "</table>\n",
       "</div>"
      ],
      "text/plain": [
       "   product_id  onsale_web  price  stock_quantity stock_status  Unnamed: 0_y  \\\n",
       "0        3847           1   24.2               0   outofstock             0   \n",
       "\n",
       "  id_web  Unnamed: 0  virtual  downloadable  rating_count  average_rating  \\\n",
       "0  15298           1        0             0             0             0.0   \n",
       "\n",
       "   total_sales tax_status  tax_class  post_author            post_date  \\\n",
       "0          6.0    taxable        NaN          2.0  2018-02-08 12:58:52   \n",
       "\n",
       "         post_date_gmt  post_content  \\\n",
       "0  2018-02-08 11:58:52           NaN   \n",
       "\n",
       "                                    post_title  \\\n",
       "0  Pierre Jean Villa Saint-Joseph Préface 2018   \n",
       "\n",
       "                                        post_excerpt post_status  \\\n",
       "0  Il exhale un nez subtil, racé avec du poivre f...     publish   \n",
       "\n",
       "  comment_status ping_status  post_password  \\\n",
       "0         closed      closed            NaN   \n",
       "\n",
       "                                     post_name        post_modified  \\\n",
       "0  pierre-jean-villa-saint-joseph-preface-2018  2019-12-30 09:30:29   \n",
       "\n",
       "     post_modified_gmt  post_content_filtered  post_parent  \\\n",
       "0  2019-12-30 08:30:29                    NaN          0.0   \n",
       "\n",
       "                                                guid  menu_order post_type  \\\n",
       "0  https://www.bottle-neck.fr/?post_type=product&...         0.0   product   \n",
       "\n",
       "  post_mime_type  comment_count  chiffre_affaire  \n",
       "0            NaN            0.0            145.2  "
      ]
     },
     "metadata": {},
     "output_type": "display_data"
    }
   ],
   "source": [
    "new['chiffre_affaire']= new['price'] * new['total_sales'] #Assigner une nouvelle col avec le CA par produit\n",
    "chiffre_total= new['chiffre_affaire'].sum()\n",
    "print(\"Le chiffre d'affaire total est de:\" , chiffre_total)\n",
    "\n",
    "display(new[:1])\n",
    "\n"
   ]
  },
  {
   "cell_type": "markdown",
   "metadata": {},
   "source": [
    "## 2.2 analyse de la variable \"Price\""
   ]
  },
  {
   "cell_type": "code",
   "execution_count": 245,
   "metadata": {},
   "outputs": [
    {
     "data": {
      "text/html": [
       "<div>\n",
       "<style scoped>\n",
       "    .dataframe tbody tr th:only-of-type {\n",
       "        vertical-align: middle;\n",
       "    }\n",
       "\n",
       "    .dataframe tbody tr th {\n",
       "        vertical-align: top;\n",
       "    }\n",
       "\n",
       "    .dataframe thead th {\n",
       "        text-align: right;\n",
       "    }\n",
       "</style>\n",
       "<table border=\"1\" class=\"dataframe\">\n",
       "  <thead>\n",
       "    <tr style=\"text-align: right;\">\n",
       "      <th></th>\n",
       "      <th>price</th>\n",
       "    </tr>\n",
       "  </thead>\n",
       "  <tbody>\n",
       "    <tr>\n",
       "      <th>count</th>\n",
       "      <td>714.000000</td>\n",
       "    </tr>\n",
       "    <tr>\n",
       "      <th>mean</th>\n",
       "      <td>32.493137</td>\n",
       "    </tr>\n",
       "    <tr>\n",
       "      <th>std</th>\n",
       "      <td>27.810525</td>\n",
       "    </tr>\n",
       "    <tr>\n",
       "      <th>min</th>\n",
       "      <td>5.200000</td>\n",
       "    </tr>\n",
       "    <tr>\n",
       "      <th>25%</th>\n",
       "      <td>14.100000</td>\n",
       "    </tr>\n",
       "    <tr>\n",
       "      <th>50%</th>\n",
       "      <td>23.550000</td>\n",
       "    </tr>\n",
       "    <tr>\n",
       "      <th>75%</th>\n",
       "      <td>42.175000</td>\n",
       "    </tr>\n",
       "    <tr>\n",
       "      <th>max</th>\n",
       "      <td>225.000000</td>\n",
       "    </tr>\n",
       "  </tbody>\n",
       "</table>\n",
       "</div>"
      ],
      "text/plain": [
       "            price\n",
       "count  714.000000\n",
       "mean    32.493137\n",
       "std     27.810525\n",
       "min      5.200000\n",
       "25%     14.100000\n",
       "50%     23.550000\n",
       "75%     42.175000\n",
       "max    225.000000"
      ]
     },
     "execution_count": 245,
     "metadata": {},
     "output_type": "execute_result"
    }
   ],
   "source": [
    "new[[\"price\"]].describe()"
   ]
  },
  {
   "cell_type": "code",
   "execution_count": 246,
   "metadata": {},
   "outputs": [
    {
     "name": "stdout",
     "output_type": "stream",
     "text": [
      "La moyenne des prix est de : 32.5 Euros\n",
      "La mediane de la colonne prix est : 23.6 Euros\n"
     ]
    }
   ],
   "source": [
    "\n",
    "# Calcul de la moyenne et de la mediane de la colonne price\n",
    "moyenne =  new['price'].mean()\n",
    "mediane =  new['price'].median()\n",
    "print(\"La moyenne des prix est de :\", round(moyenne,1), \"Euros\")\n",
    "print(\"La mediane de la colonne prix est :\", round(mediane, 1), \"Euros\")"
   ]
  },
  {
   "cell_type": "code",
   "execution_count": 247,
   "metadata": {},
   "outputs": [
    {
     "data": {
      "text/plain": [
       "<matplotlib.legend.Legend at 0x1b32de2faf0>"
      ]
     },
     "execution_count": 247,
     "metadata": {},
     "output_type": "execute_result"
    },
    {
     "data": {
      "image/png": "[encoded data removed]",
      "text/plain": [
       "<Figure size 640x480 with 1 Axes>"
      ]
     },
     "metadata": {},
     "output_type": "display_data"
    }
   ],
   "source": [
    "\n",
    "\n",
    "sns.histplot(data = new[\"price\"], bins=20)\n",
    "\n",
    "plt.title(\"Nombre de vente en fonction du prix\")\n",
    "plt.axvline(moyenne, color=\"r\", linestyle=\"--\")\n",
    "plt.axvline(mediane, color=\"r\", linestyle=\":\")\n",
    "plt.legend({\"Moyenne\":moyenne,\"Mediane\":mediane})\n",
    "\n"
   ]
  },
  {
   "cell_type": "markdown",
   "metadata": {},
   "source": [
    "## 2.3 Presentation de la variable Price sous forme de tableau"
   ]
  },
  {
   "cell_type": "code",
   "execution_count": 248,
   "metadata": {},
   "outputs": [
    {
     "data": {
      "text/html": [
       "<div>\n",
       "<style scoped>\n",
       "    .dataframe tbody tr th:only-of-type {\n",
       "        vertical-align: middle;\n",
       "    }\n",
       "\n",
       "    .dataframe tbody tr th {\n",
       "        vertical-align: top;\n",
       "    }\n",
       "\n",
       "    .dataframe thead th {\n",
       "        text-align: right;\n",
       "    }\n",
       "</style>\n",
       "<table border=\"1\" class=\"dataframe\">\n",
       "  <thead>\n",
       "    <tr style=\"text-align: right;\">\n",
       "      <th></th>\n",
       "      <th>price</th>\n",
       "      <th>n</th>\n",
       "      <th>frequence</th>\n",
       "    </tr>\n",
       "  </thead>\n",
       "  <tbody>\n",
       "    <tr>\n",
       "      <th>0</th>\n",
       "      <td>(4.979, 60.15]</td>\n",
       "      <td>634</td>\n",
       "      <td>88.795518</td>\n",
       "    </tr>\n",
       "    <tr>\n",
       "      <th>1</th>\n",
       "      <td>(60.15, 115.1]</td>\n",
       "      <td>66</td>\n",
       "      <td>9.243697</td>\n",
       "    </tr>\n",
       "    <tr>\n",
       "      <th>2</th>\n",
       "      <td>(115.1, 170.05]</td>\n",
       "      <td>9</td>\n",
       "      <td>1.260504</td>\n",
       "    </tr>\n",
       "    <tr>\n",
       "      <th>3</th>\n",
       "      <td>(170.05, 225.0]</td>\n",
       "      <td>5</td>\n",
       "      <td>0.700280</td>\n",
       "    </tr>\n",
       "  </tbody>\n",
       "</table>\n",
       "</div>"
      ],
      "text/plain": [
       "             price    n  frequence\n",
       "0   (4.979, 60.15]  634  88.795518\n",
       "1   (60.15, 115.1]   66   9.243697\n",
       "2  (115.1, 170.05]    9   1.260504\n",
       "3  (170.05, 225.0]    5   0.700280"
      ]
     },
     "metadata": {},
     "output_type": "display_data"
    }
   ],
   "source": [
    "effectifs = new[\"price\"].value_counts(bins=4)\n",
    "modalites = effectifs.index #l'index des effectifs contient les modalités\n",
    "tab = pd.DataFrame(modalites, columns = [\"price\"]) # création du tableau à partir des modalités\n",
    "tab[\"n\"] = effectifs.values\n",
    "tab[\"frequence\"] = (tab[\"n\"] / len(new)) *100\n",
    "display(tab)"
   ]
  },
  {
   "cell_type": "code",
   "execution_count": 249,
   "metadata": {},
   "outputs": [
    {
     "data": {
      "text/html": [
       "<div>\n",
       "<style scoped>\n",
       "    .dataframe tbody tr th:only-of-type {\n",
       "        vertical-align: middle;\n",
       "    }\n",
       "\n",
       "    .dataframe tbody tr th {\n",
       "        vertical-align: top;\n",
       "    }\n",
       "\n",
       "    .dataframe thead th {\n",
       "        text-align: right;\n",
       "    }\n",
       "</style>\n",
       "<table border=\"1\" class=\"dataframe\">\n",
       "  <thead>\n",
       "    <tr style=\"text-align: right;\">\n",
       "      <th></th>\n",
       "      <th>price</th>\n",
       "      <th>n</th>\n",
       "      <th>frequence</th>\n",
       "      <th>frequence_cum</th>\n",
       "    </tr>\n",
       "  </thead>\n",
       "  <tbody>\n",
       "    <tr>\n",
       "      <th>0</th>\n",
       "      <td>(4.979, 60.15]</td>\n",
       "      <td>634</td>\n",
       "      <td>88.795518</td>\n",
       "      <td>88.795518</td>\n",
       "    </tr>\n",
       "    <tr>\n",
       "      <th>1</th>\n",
       "      <td>(60.15, 115.1]</td>\n",
       "      <td>66</td>\n",
       "      <td>9.243697</td>\n",
       "      <td>98.039216</td>\n",
       "    </tr>\n",
       "    <tr>\n",
       "      <th>2</th>\n",
       "      <td>(115.1, 170.05]</td>\n",
       "      <td>9</td>\n",
       "      <td>1.260504</td>\n",
       "      <td>99.299720</td>\n",
       "    </tr>\n",
       "    <tr>\n",
       "      <th>3</th>\n",
       "      <td>(170.05, 225.0]</td>\n",
       "      <td>5</td>\n",
       "      <td>0.700280</td>\n",
       "      <td>100.000000</td>\n",
       "    </tr>\n",
       "  </tbody>\n",
       "</table>\n",
       "</div>"
      ],
      "text/plain": [
       "             price    n  frequence  frequence_cum\n",
       "0   (4.979, 60.15]  634  88.795518      88.795518\n",
       "1   (60.15, 115.1]   66   9.243697      98.039216\n",
       "2  (115.1, 170.05]    9   1.260504      99.299720\n",
       "3  (170.05, 225.0]    5   0.700280     100.000000"
      ]
     },
     "metadata": {},
     "output_type": "display_data"
    }
   ],
   "source": [
    "tab = tab.sort_values(\"price\") # tri des valeurs de la variable tab (croissant)\n",
    "tab[\"frequence_cum\"] = tab[\"frequence\"].cumsum() #Calcule la somme cumulée\n",
    "display(tab)\n"
   ]
  },
  {
   "cell_type": "markdown",
   "metadata": {},
   "source": [
    "## 2.4 Mesure de la tendance centrale"
   ]
  },
  {
   "cell_type": "code",
   "execution_count": 250,
   "metadata": {},
   "outputs": [
    {
     "name": "stdout",
     "output_type": "stream",
     "text": [
      "Le mode est la valeur que l'on retrouve le plus souvent dans la colonne 'price'. \n",
      " 19.0 est donc le mode \n"
     ]
    }
   ],
   "source": [
    "mode = new[\"price\"].mode()\n",
    "print(f\"Le mode est la valeur que l'on retrouve le plus souvent dans la colonne 'price'. \\n\",mode[0] , \n",
    "\"est donc le mode \")\n"
   ]
  },
  {
   "cell_type": "markdown",
   "metadata": {},
   "source": [
    "## 2.5 Mesures de dispersion"
   ]
  },
  {
   "cell_type": "code",
   "execution_count": 251,
   "metadata": {},
   "outputs": [
    {
     "name": "stdout",
     "output_type": "stream",
     "text": [
      "La variance est l’écart carré moyen entre chaque donnée et la moyenne.\n",
      " Ici la variance est donc de :  772.34\n"
     ]
    }
   ],
   "source": [
    "variance = new[\"price\"].var(ddof=0)\n",
    "print(\"La variance est l’écart carré moyen entre chaque donnée et la moyenne.\\n\",\n",
    "\"Ici la variance est donc de : \",round(variance, 2))"
   ]
  },
  {
   "cell_type": "code",
   "execution_count": 252,
   "metadata": {},
   "outputs": [
    {
     "name": "stdout",
     "output_type": "stream",
     "text": [
      "L'ecart type de la colonne 'price' est de :  27.81\n"
     ]
    }
   ],
   "source": [
    "ecart_type = new['price'].std()\n",
    "print(\"L'ecart type de la colonne 'price' est de : \",round(ecart_type,2))"
   ]
  },
  {
   "cell_type": "code",
   "execution_count": 253,
   "metadata": {},
   "outputs": [
    {
     "name": "stdout",
     "output_type": "stream",
     "text": [
      "Limite pour les outliers inferieurs:\n",
      " -27.975\n",
      "Les indexs des outliers inferieurs sont:\n",
      " []\n",
      "Limite pour les outliers superieurs:\n",
      " 84.22500000000001\n",
      "Les indexs des outliers superieurs sont:\n",
      " [ 63  65 199 201 205 218 219 221 222 227 380 381 426 431 432 437 438 502\n",
      " 511 553 587 602 603 604 642 647 648 653 654 655 656 657]\n"
     ]
    },
    {
     "data": {
      "text/html": [
       "<div>\n",
       "<style scoped>\n",
       "    .dataframe tbody tr th:only-of-type {\n",
       "        vertical-align: middle;\n",
       "    }\n",
       "\n",
       "    .dataframe tbody tr th {\n",
       "        vertical-align: top;\n",
       "    }\n",
       "\n",
       "    .dataframe thead th {\n",
       "        text-align: right;\n",
       "    }\n",
       "</style>\n",
       "<table border=\"1\" class=\"dataframe\">\n",
       "  <thead>\n",
       "    <tr style=\"text-align: right;\">\n",
       "      <th></th>\n",
       "      <th>price</th>\n",
       "      <th>post_title</th>\n",
       "    </tr>\n",
       "  </thead>\n",
       "  <tbody>\n",
       "    <tr>\n",
       "      <th>63</th>\n",
       "      <td>100.0</td>\n",
       "      <td>Zind-Humbrecht Riesling Grand Cru Rangen De Th...</td>\n",
       "    </tr>\n",
       "    <tr>\n",
       "      <th>65</th>\n",
       "      <td>88.4</td>\n",
       "      <td>Zind-Humbrecht Pinot Gris Grand Cru Rangen De ...</td>\n",
       "    </tr>\n",
       "    <tr>\n",
       "      <th>199</th>\n",
       "      <td>225.0</td>\n",
       "      <td>Champagne Egly-Ouriet Grand Cru Millésimé 2008</td>\n",
       "    </tr>\n",
       "    <tr>\n",
       "      <th>201</th>\n",
       "      <td>126.5</td>\n",
       "      <td>Champagne Egly-Ouriet Grand Cru Blanc de Noirs</td>\n",
       "    </tr>\n",
       "    <tr>\n",
       "      <th>205</th>\n",
       "      <td>85.6</td>\n",
       "      <td>Champagne Larmandier-Bernier Grand Cru Les Che...</td>\n",
       "    </tr>\n",
       "    <tr>\n",
       "      <th>218</th>\n",
       "      <td>176.0</td>\n",
       "      <td>Cognac Frapin VIP XO</td>\n",
       "    </tr>\n",
       "    <tr>\n",
       "      <th>219</th>\n",
       "      <td>108.5</td>\n",
       "      <td>Cognac Frapin Château de Fontpinot XO</td>\n",
       "    </tr>\n",
       "    <tr>\n",
       "      <th>221</th>\n",
       "      <td>157.0</td>\n",
       "      <td>Cognac Frapin Château de Fontpinot 1989 20 Ans...</td>\n",
       "    </tr>\n",
       "    <tr>\n",
       "      <th>222</th>\n",
       "      <td>104.0</td>\n",
       "      <td>Cognac Frapin Cigar Blend</td>\n",
       "    </tr>\n",
       "    <tr>\n",
       "      <th>227</th>\n",
       "      <td>109.6</td>\n",
       "      <td>Château de Meursault Puligny-Montrachet 1er Cr...</td>\n",
       "    </tr>\n",
       "    <tr>\n",
       "      <th>380</th>\n",
       "      <td>102.3</td>\n",
       "      <td>Domaine Des Croix Corton Grand Cru Les Grèves ...</td>\n",
       "    </tr>\n",
       "    <tr>\n",
       "      <th>381</th>\n",
       "      <td>137.0</td>\n",
       "      <td>Domaine Des Croix Corton Charlemagne Grand Cru...</td>\n",
       "    </tr>\n",
       "    <tr>\n",
       "      <th>426</th>\n",
       "      <td>217.5</td>\n",
       "      <td>David Duband Charmes-Chambertin Grand Cru 2014</td>\n",
       "    </tr>\n",
       "    <tr>\n",
       "      <th>431</th>\n",
       "      <td>105.0</td>\n",
       "      <td>Domaine des Comtes Lafon Volnay 1er Cru Santen...</td>\n",
       "    </tr>\n",
       "    <tr>\n",
       "      <th>432</th>\n",
       "      <td>105.0</td>\n",
       "      <td>Domaine des Comtes Lafon Volnay 1er Cru Santen...</td>\n",
       "    </tr>\n",
       "    <tr>\n",
       "      <th>437</th>\n",
       "      <td>112.0</td>\n",
       "      <td>Champagne Agrapart &amp;amp; Fils L'Avizoise Extra...</td>\n",
       "    </tr>\n",
       "    <tr>\n",
       "      <th>438</th>\n",
       "      <td>86.8</td>\n",
       "      <td>Champagne Agrapart &amp;amp; Fils Minéral Extra Br...</td>\n",
       "    </tr>\n",
       "    <tr>\n",
       "      <th>502</th>\n",
       "      <td>92.0</td>\n",
       "      <td>Tempier Bandol Cabassaou 2017</td>\n",
       "    </tr>\n",
       "    <tr>\n",
       "      <th>511</th>\n",
       "      <td>124.8</td>\n",
       "      <td>Domaine Weinbach Gewurztraminer Grand Cru Furs...</td>\n",
       "    </tr>\n",
       "    <tr>\n",
       "      <th>553</th>\n",
       "      <td>175.0</td>\n",
       "      <td>Camille Giroud Clos de Vougeot 2016</td>\n",
       "    </tr>\n",
       "    <tr>\n",
       "      <th>587</th>\n",
       "      <td>191.3</td>\n",
       "      <td>Coteaux Champenois Egly-Ouriet Ambonnay Rouge ...</td>\n",
       "    </tr>\n",
       "    <tr>\n",
       "      <th>602</th>\n",
       "      <td>93.0</td>\n",
       "      <td>Wemyss Malts Single Cask Scotch Whisky Chocola...</td>\n",
       "    </tr>\n",
       "    <tr>\n",
       "      <th>603</th>\n",
       "      <td>122.0</td>\n",
       "      <td>Wemyss Malts Single Cask Scotch Whisky Choc 'n...</td>\n",
       "    </tr>\n",
       "    <tr>\n",
       "      <th>604</th>\n",
       "      <td>114.0</td>\n",
       "      <td>Wemyss Malts Single Cask Scotch Whisky Chai Ca...</td>\n",
       "    </tr>\n",
       "    <tr>\n",
       "      <th>642</th>\n",
       "      <td>135.0</td>\n",
       "      <td>Champagne Gosset Célébris Vintage 2007</td>\n",
       "    </tr>\n",
       "    <tr>\n",
       "      <th>647</th>\n",
       "      <td>105.6</td>\n",
       "      <td>David Duband Chambolle-Musigny 1er Cru Les Sen...</td>\n",
       "    </tr>\n",
       "    <tr>\n",
       "      <th>648</th>\n",
       "      <td>116.4</td>\n",
       "      <td>Domaine Clerget Echezeaux Grand Cru En Orveaux...</td>\n",
       "    </tr>\n",
       "    <tr>\n",
       "      <th>653</th>\n",
       "      <td>115.0</td>\n",
       "      <td>Domaine des Comtes Lafon Volnay 1er Cru Santen...</td>\n",
       "    </tr>\n",
       "    <tr>\n",
       "      <th>654</th>\n",
       "      <td>121.0</td>\n",
       "      <td>Domaine des Comtes Lafon Volnay 1er Cru Santen...</td>\n",
       "    </tr>\n",
       "    <tr>\n",
       "      <th>655</th>\n",
       "      <td>99.0</td>\n",
       "      <td>Domaine des Comtes Lafon Volnay 1er Cru Champa...</td>\n",
       "    </tr>\n",
       "    <tr>\n",
       "      <th>656</th>\n",
       "      <td>115.0</td>\n",
       "      <td>Domaine des Comtes Lafon Volnay 1er Cru Champa...</td>\n",
       "    </tr>\n",
       "    <tr>\n",
       "      <th>657</th>\n",
       "      <td>121.0</td>\n",
       "      <td>Domaine des Comtes Lafon Volnay 1er Cru Champa...</td>\n",
       "    </tr>\n",
       "  </tbody>\n",
       "</table>\n",
       "</div>"
      ],
      "text/plain": [
       "     price                                         post_title\n",
       "63   100.0  Zind-Humbrecht Riesling Grand Cru Rangen De Th...\n",
       "65    88.4  Zind-Humbrecht Pinot Gris Grand Cru Rangen De ...\n",
       "199  225.0     Champagne Egly-Ouriet Grand Cru Millésimé 2008\n",
       "201  126.5     Champagne Egly-Ouriet Grand Cru Blanc de Noirs\n",
       "205   85.6  Champagne Larmandier-Bernier Grand Cru Les Che...\n",
       "218  176.0                               Cognac Frapin VIP XO\n",
       "219  108.5              Cognac Frapin Château de Fontpinot XO\n",
       "221  157.0  Cognac Frapin Château de Fontpinot 1989 20 Ans...\n",
       "222  104.0                          Cognac Frapin Cigar Blend\n",
       "227  109.6  Château de Meursault Puligny-Montrachet 1er Cr...\n",
       "380  102.3  Domaine Des Croix Corton Grand Cru Les Grèves ...\n",
       "381  137.0  Domaine Des Croix Corton Charlemagne Grand Cru...\n",
       "426  217.5     David Duband Charmes-Chambertin Grand Cru 2014\n",
       "431  105.0  Domaine des Comtes Lafon Volnay 1er Cru Santen...\n",
       "432  105.0  Domaine des Comtes Lafon Volnay 1er Cru Santen...\n",
       "437  112.0  Champagne Agrapart &amp; Fils L'Avizoise Extra...\n",
       "438   86.8  Champagne Agrapart &amp; Fils Minéral Extra Br...\n",
       "502   92.0                      Tempier Bandol Cabassaou 2017\n",
       "511  124.8  Domaine Weinbach Gewurztraminer Grand Cru Furs...\n",
       "553  175.0                Camille Giroud Clos de Vougeot 2016\n",
       "587  191.3  Coteaux Champenois Egly-Ouriet Ambonnay Rouge ...\n",
       "602   93.0  Wemyss Malts Single Cask Scotch Whisky Chocola...\n",
       "603  122.0  Wemyss Malts Single Cask Scotch Whisky Choc 'n...\n",
       "604  114.0  Wemyss Malts Single Cask Scotch Whisky Chai Ca...\n",
       "642  135.0             Champagne Gosset Célébris Vintage 2007\n",
       "647  105.6  David Duband Chambolle-Musigny 1er Cru Les Sen...\n",
       "648  116.4  Domaine Clerget Echezeaux Grand Cru En Orveaux...\n",
       "653  115.0  Domaine des Comtes Lafon Volnay 1er Cru Santen...\n",
       "654  121.0  Domaine des Comtes Lafon Volnay 1er Cru Santen...\n",
       "655   99.0  Domaine des Comtes Lafon Volnay 1er Cru Champa...\n",
       "656  115.0  Domaine des Comtes Lafon Volnay 1er Cru Champa...\n",
       "657  121.0  Domaine des Comtes Lafon Volnay 1er Cru Champa..."
      ]
     },
     "metadata": {},
     "output_type": "display_data"
    }
   ],
   "source": [
    "# Detection numerique des outliers:\n",
    "Q1 = new[\"price\"].quantile(q=0.25, interpolation=\"midpoint\")\n",
    "Q3 = new[\"price\"].quantile(q=0.75, interpolation=\"midpoint\")\n",
    "Iq = Q3 - Q1\n",
    "\n",
    "Outliers_Inf_limite = Q1-1.5 * Iq\n",
    "Outliers_Sup_limite = Q3+1.5 * Iq\n",
    "\n",
    "Outliers_Inf = new[\"price\"] < Outliers_Inf_limite\n",
    "Outliers_Sup = new[\"price\"] > Outliers_Sup_limite\n",
    "\n",
    "print(\"Limite pour les outliers inferieurs:\\n\", Outliers_Inf_limite)\n",
    "print(\"Les indexs des outliers inferieurs sont:\\n\", np.where(Outliers_Inf)[0])\n",
    "\n",
    "print(\"Limite pour les outliers superieurs:\\n\", Outliers_Sup_limite )\n",
    "print(\"Les indexs des outliers superieurs sont:\\n\", np.where(Outliers_Sup)[0])\n",
    "display(new.loc[(new[\"price\"]>Outliers_Sup_limite),(\"price\",\"post_title\")])\n"
   ]
  },
  {
   "cell_type": "markdown",
   "metadata": {},
   "source": [
    "Pour le calcul des outliers:  \n",
    "Sachant que:  \n",
    "IQ = écart interquartile  \n",
    "Q1 = premier quartile.   \n",
    "Q2 = deuxieme quartile.   \n",
    "Q3 = troisième quartile  \n",
    "Les valeurs en dessous de Q1- 1,5 x IQ et au-dessus de Q3 + 1,5 x IQ  seront considérées comme des outliers.  \n",
    "  \n",
    "La limite inférieure étant négative (-27.97) il est logique qu'aucun outlier inférieur n'existe (un prix ne peut pas être négatif).  \n",
    "On vérifie tout de même en affichant les index pour lesquels l'affirmation serait juste.\n",
    "\n",
    "La limite supérieure est elle de 84,22€ sachant que la valeur maximale est de 225€.  \n",
    "   "
   ]
  },
  {
   "cell_type": "code",
   "execution_count": 254,
   "metadata": {},
   "outputs": [
    {
     "data": {
      "image/png": "[encoded data removed]",
      "text/plain": [
       "<Figure size 640x480 with 1 Axes>"
      ]
     },
     "metadata": {},
     "output_type": "display_data"
    }
   ],
   "source": [
    "# Verification visuel des outliers grace a un boxplot\n",
    "new.boxplot(column=[\"price\"], vert=False, sym = 'r+' )\n",
    "plt.xlabel(\"prix\")\n",
    "plt.ylabel(\"\")\n",
    "\n",
    "plt.title(\"Visualisation des outliers\")\n",
    "plt.show()"
   ]
  },
  {
   "cell_type": "markdown",
   "metadata": {},
   "source": [
    "On peut voir sur ce boxplot la representation visuelle des outliers. \n",
    "On peut constater que comme lors de notre calcul de detection des outliers, il n'y a pas d'outlier inferieur.\n",
    "On peut egalement constater que les outliers superieurs commencent bien autour de 80."
   ]
  },
  {
   "cell_type": "markdown",
   "metadata": {},
   "source": [
    "## 2.6 Mesures de forme"
   ]
  },
  {
   "cell_type": "code",
   "execution_count": 255,
   "metadata": {},
   "outputs": [
    {
     "name": "stdout",
     "output_type": "stream",
     "text": [
      "On se rend compte dans notre cas que la mesure de forme est de  2.58090126300337 . Etant donne que cette valeur est superieur a 0 on peut en deduire que le mode est inferieur a la mediane \n"
     ]
    }
   ],
   "source": [
    "skewness = new['price'].skew()\n",
    "print(\"On se rend compte dans notre cas que la mesure de forme est de \",skewness,\n",
    " \". Etant donne que cette valeur est superieur a 0 on peut en deduire que le mode est inferieur a la mediane \")"
   ]
  },
  {
   "cell_type": "markdown",
   "metadata": {},
   "source": [
    "## 2.7 Analyse des ventes"
   ]
  },
  {
   "cell_type": "code",
   "execution_count": 256,
   "metadata": {},
   "outputs": [
    {
     "data": {
      "image/png": "[encoded data removed]",
      "text/plain": [
       "<Figure size 640x480 with 1 Axes>"
      ]
     },
     "metadata": {},
     "output_type": "display_data"
    }
   ],
   "source": [
    "sns.scatterplot(data=new, x=\"price\", y=\"total_sales\",\n",
    "                hue=\"stock_status\" ,\n",
    "                style=\"stock_status\",\n",
    "                palette=\"bright\",\n",
    "                )\n",
    "plt.title(\"Nombre de ventes en fonction du prix\")\n",
    "plt.xlabel(\"prix\")\n",
    "plt.ylabel(\"Nombre de ventes\")\n",
    "\n",
    "plt.show()"
   ]
  },
  {
   "cell_type": "code",
   "execution_count": 257,
   "metadata": {},
   "outputs": [
    {
     "data": {
      "text/html": [
       "<div>\n",
       "<style scoped>\n",
       "    .dataframe tbody tr th:only-of-type {\n",
       "        vertical-align: middle;\n",
       "    }\n",
       "\n",
       "    .dataframe tbody tr th {\n",
       "        vertical-align: top;\n",
       "    }\n",
       "\n",
       "    .dataframe thead th {\n",
       "        text-align: right;\n",
       "    }\n",
       "</style>\n",
       "<table border=\"1\" class=\"dataframe\">\n",
       "  <thead>\n",
       "    <tr style=\"text-align: right;\">\n",
       "      <th></th>\n",
       "      <th>id_web</th>\n",
       "      <th>total_sales</th>\n",
       "      <th>price</th>\n",
       "      <th>chiffre_affaire</th>\n",
       "      <th>stock_status</th>\n",
       "    </tr>\n",
       "  </thead>\n",
       "  <tbody>\n",
       "    <tr>\n",
       "      <th>194</th>\n",
       "      <td>7818</td>\n",
       "      <td>96.0</td>\n",
       "      <td>49.0</td>\n",
       "      <td>4704.0</td>\n",
       "      <td>outofstock</td>\n",
       "    </tr>\n",
       "    <tr>\n",
       "      <th>71</th>\n",
       "      <td>1662</td>\n",
       "      <td>87.0</td>\n",
       "      <td>49.0</td>\n",
       "      <td>4263.0</td>\n",
       "      <td>instock</td>\n",
       "    </tr>\n",
       "    <tr>\n",
       "      <th>30</th>\n",
       "      <td>16416</td>\n",
       "      <td>62.0</td>\n",
       "      <td>16.6</td>\n",
       "      <td>1029.2</td>\n",
       "      <td>instock</td>\n",
       "    </tr>\n",
       "    <tr>\n",
       "      <th>119</th>\n",
       "      <td>16295</td>\n",
       "      <td>46.0</td>\n",
       "      <td>5.8</td>\n",
       "      <td>266.8</td>\n",
       "      <td>instock</td>\n",
       "    </tr>\n",
       "    <tr>\n",
       "      <th>97</th>\n",
       "      <td>16210</td>\n",
       "      <td>43.0</td>\n",
       "      <td>5.7</td>\n",
       "      <td>245.1</td>\n",
       "      <td>instock</td>\n",
       "    </tr>\n",
       "    <tr>\n",
       "      <th>109</th>\n",
       "      <td>16189</td>\n",
       "      <td>42.0</td>\n",
       "      <td>13.3</td>\n",
       "      <td>558.6</td>\n",
       "      <td>instock</td>\n",
       "    </tr>\n",
       "    <tr>\n",
       "      <th>651</th>\n",
       "      <td>16580</td>\n",
       "      <td>41.0</td>\n",
       "      <td>25.2</td>\n",
       "      <td>1033.2</td>\n",
       "      <td>instock</td>\n",
       "    </tr>\n",
       "    <tr>\n",
       "      <th>69</th>\n",
       "      <td>304</td>\n",
       "      <td>40.0</td>\n",
       "      <td>39.0</td>\n",
       "      <td>1560.0</td>\n",
       "      <td>instock</td>\n",
       "    </tr>\n",
       "    <tr>\n",
       "      <th>625</th>\n",
       "      <td>16264</td>\n",
       "      <td>38.0</td>\n",
       "      <td>10.9</td>\n",
       "      <td>414.2</td>\n",
       "      <td>instock</td>\n",
       "    </tr>\n",
       "    <tr>\n",
       "      <th>324</th>\n",
       "      <td>38</td>\n",
       "      <td>38.0</td>\n",
       "      <td>8.6</td>\n",
       "      <td>326.8</td>\n",
       "      <td>instock</td>\n",
       "    </tr>\n",
       "  </tbody>\n",
       "</table>\n",
       "</div>"
      ],
      "text/plain": [
       "    id_web  total_sales  price  chiffre_affaire stock_status\n",
       "194   7818         96.0   49.0           4704.0   outofstock\n",
       "71    1662         87.0   49.0           4263.0      instock\n",
       "30   16416         62.0   16.6           1029.2      instock\n",
       "119  16295         46.0    5.8            266.8      instock\n",
       "97   16210         43.0    5.7            245.1      instock\n",
       "109  16189         42.0   13.3            558.6      instock\n",
       "651  16580         41.0   25.2           1033.2      instock\n",
       "69     304         40.0   39.0           1560.0      instock\n",
       "625  16264         38.0   10.9            414.2      instock\n",
       "324     38         38.0    8.6            326.8      instock"
      ]
     },
     "metadata": {},
     "output_type": "display_data"
    }
   ],
   "source": [
    "# Meilleur vente   en ligne\n",
    "\n",
    "meilleur_ventes = new.loc[(new[\"onsale_web\"]==1),(\"id_web\",\"total_sales\",\"price\",\"chiffre_affaire\",\"stock_status\")]\n",
    "meilleur_ventes.sort_values(by=\"total_sales\",ascending=False, inplace=True )\n",
    "display(meilleur_ventes[:10])\n",
    "\n",
    "                                                                                                                            "
   ]
  },
  {
   "cell_type": "markdown",
   "metadata": {},
   "source": [
    "On peut voir que le produit qui a le plus de vente est actuelement en rupture de stock\n"
   ]
  },
  {
   "cell_type": "markdown",
   "metadata": {},
   "source": [
    "# 3. Conclusion:  \n",
    "## Preparation des donnees:  \n",
    "-Repérage des clés primaires pour pouvoir fusionner les dataframes.   \n",
    "-Repérer les valeurs manquantes.  \n",
    "-Supprimer les doublons dans le fichier web, il n'est pas necessaire d'avoir deux lignes par produit aves les meme données.  \n",
    "-Renommer correctement la colonne sku -> id_web.\n",
    "\n",
    "## Analyse de la variable price.  \n",
    "-Le prix median d'une bouteille de vin est de 32 euros.  \n",
    "-Le prix moyen est de 23,5 euros.  \n",
    "-88% des produits vendus ont un prix inferieur a 60 euros et 98% des produits ont un prix inferieur a 110 euros.  \n",
    "-Les valeurs considerées comme des outliers sonts les prix superieurs a 84 Euros. Meme si ces valeurs sont extremes elles restent juste dans ce contexte.  "
   ]
  }
 ],
 "metadata": {
  "kernelspec": {
   "display_name": "Python 3.9.13 ('base')",
   "language": "python",
   "name": "python3"
  },
  "language_info": {
   "codemirror_mode": {
    "name": "ipython",
    "version": 3
   },
   "file_extension": ".py",
   "mimetype": "text/x-python",
   "name": "python",
   "nbconvert_exporter": "python",
   "pygments_lexer": "ipython3",
   "version": "3.9.13"
  },
  "orig_nbformat": 4,
  "vscode": {
   "interpreter": {
    "hash": "460a7aed05b58b4bbf011d3c8f512441519fbd53708240bb785e52ec946a493a"
   }
  }
 },
 "nbformat": 4,
 "nbformat_minor": 2
}
